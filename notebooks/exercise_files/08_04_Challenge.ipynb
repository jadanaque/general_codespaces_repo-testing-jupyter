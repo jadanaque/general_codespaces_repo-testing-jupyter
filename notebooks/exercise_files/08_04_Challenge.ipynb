{
 "cells": [
  {
   "cell_type": "markdown",
   "id": "522e4770",
   "metadata": {},
   "source": [
    "## Message Exceptions\n",
    "\n",
    "The SaveMessages class now has limited memory and should only be able to hold a maximum of 10 messages at once.\n",
    "\n",
    "This challenge has three parts, outlined in comments below. \n",
    "\n",
    "**\\# 1. Finish creating the TooManyMessagesException class**\n",
    "\n",
    "Fill in the TooManyMessagesException class. Add a custom message!\n",
    "\n",
    "**\\# 2. Raise a TooManyMessagesException exception here**\n",
    "\n",
    "Make sure that the SaveMessages class doesn't get over-full and raises an Exception if the max_messages limit is reached.\n",
    "\n",
    "**\\# 3. Catch a TooManyMessagesException and print the messages**\n",
    "\n",
    "Modify this code so that, if an exception is raised when the message is sent, the messages are printed out (emptying the message list) and the message is re-sent. Make sure to print out any remaining messages at the end!\n"
   ]
  },
  {
   "cell_type": "code",
   "execution_count": 14,
   "id": "4261d50d",
   "metadata": {},
   "outputs": [],
   "source": [
    "from datetime import datetime\n",
    "\n",
    "def getCurrentTime():\n",
    "    return datetime.now().strftime(\"%m-%d-%Y %H:%M:%S\")\n",
    "\n",
    "\n",
    "class Messenger:\n",
    "    def __init__(self, listeners=[]):\n",
    "        self.listeners = listeners\n",
    "    \n",
    "    def send(self, message):\n",
    "        for listener in self.listeners:\n",
    "            listener.receive(message)\n",
    "\n",
    "    def receive(self, message):\n",
    "        pass\n",
    "\n",
    "# 1. Finish creating the TooManyMessagesException class\n",
    "class TooManyMessagesException(Exception):\n",
    "    def __init__(self, message):\n",
    "        super().__init__(f'Your message {message} have just exceded the 10-messages limit')\n",
    "\n",
    "class SaveMessages(Messenger):\n",
    "    def __init__(self, listeners=[]):\n",
    "        super().__init__(listeners)\n",
    "        self.messages = []\n",
    "        self.max_messages = 10\n",
    "        \n",
    "    def receive(self, message):\n",
    "        if len(self.messages) >= self.max_messages:\n",
    "            #2. Raise a TooManyMessagesException exception here\n",
    "            raise TooManyMessagesException(message)\n",
    "        self.messages.append({'message': message, 'time': getCurrentTime()})\n",
    "        \n",
    "    def printMessages(self):\n",
    "        for m in self.messages:\n",
    "            print(f'Message: \"{m[\"message\"]}\" Time: {m[\"time\"]}')\n",
    "        self.messages = []\n",
    "\n"
   ]
  },
  {
   "cell_type": "code",
   "execution_count": 15,
   "id": "d4a45805",
   "metadata": {},
   "outputs": [],
   "source": [
    "listener = SaveMessages()\n",
    "sender = Messenger([listener])"
   ]
  },
  {
   "cell_type": "code",
   "execution_count": 16,
   "id": "6baf6405",
   "metadata": {},
   "outputs": [
    {
     "name": "stdout",
     "output_type": "stream",
     "text": [
      "Message: \"This is message 0\" Time: 10-02-2023 00:00:32\n",
      "Message: \"This is message 1\" Time: 10-02-2023 00:00:32\n",
      "Message: \"This is message 2\" Time: 10-02-2023 00:00:32\n",
      "Message: \"This is message 3\" Time: 10-02-2023 00:00:32\n",
      "Message: \"This is message 4\" Time: 10-02-2023 00:00:32\n",
      "Message: \"This is message 5\" Time: 10-02-2023 00:00:32\n",
      "Message: \"This is message 6\" Time: 10-02-2023 00:00:32\n",
      "Message: \"This is message 7\" Time: 10-02-2023 00:00:32\n",
      "Message: \"This is message 8\" Time: 10-02-2023 00:00:32\n",
      "Message: \"This is message 9\" Time: 10-02-2023 00:00:32\n",
      "Message: \"This is message 10\" Time: 10-02-2023 00:00:32\n",
      "Message: \"This is message 11\" Time: 10-02-2023 00:00:32\n",
      "Message: \"This is message 12\" Time: 10-02-2023 00:00:32\n",
      "Message: \"This is message 13\" Time: 10-02-2023 00:00:32\n",
      "Message: \"This is message 14\" Time: 10-02-2023 00:00:32\n",
      "Message: \"This is message 15\" Time: 10-02-2023 00:00:32\n",
      "Message: \"This is message 16\" Time: 10-02-2023 00:00:32\n",
      "Message: \"This is message 17\" Time: 10-02-2023 00:00:32\n",
      "Message: \"This is message 18\" Time: 10-02-2023 00:00:32\n",
      "Message: \"This is message 19\" Time: 10-02-2023 00:00:32\n"
     ]
    }
   ],
   "source": [
    "# 3. Catch a TooManyMessagesException and print the messages \n",
    "for i in range(0, 20):\n",
    "    try:\n",
    "        sender.send(f'This is message {i}')\n",
    "    except TooManyMessagesException:\n",
    "        listener.printMessages()\n",
    "        sender.send(f'This is message {i}')\n",
    "\n",
    "listener.printMessages()"
   ]
  },
  {
   "cell_type": "code",
   "execution_count": 17,
   "id": "4337ca82",
   "metadata": {},
   "outputs": [
    {
     "ename": "TooManyMessagesException",
     "evalue": "Your message This is message 10 have just exceded the 10-messages limit",
     "output_type": "error",
     "traceback": [
      "\u001b[0;31m---------------------------------------------------------------------------\u001b[0m",
      "\u001b[0;31mTooManyMessagesException\u001b[0m                  Traceback (most recent call last)",
      "\u001b[1;32m/workspaces/codespaces-jupyter/notebooks/exercise_files/08_04_Challenge.ipynb Celda 5\u001b[0m line \u001b[0;36m2\n\u001b[1;32m      <a href='vscode-notebook-cell://codespaces%2Bcrispy-waffle-gvqxggjxvjh9xr7/workspaces/codespaces-jupyter/notebooks/exercise_files/08_04_Challenge.ipynb#W6sdnNjb2RlLXJlbW90ZQ%3D%3D?line=0'>1</a>\u001b[0m \u001b[39mfor\u001b[39;00m i \u001b[39min\u001b[39;00m \u001b[39mrange\u001b[39m(\u001b[39m0\u001b[39m, \u001b[39m20\u001b[39m):\n\u001b[0;32m----> <a href='vscode-notebook-cell://codespaces%2Bcrispy-waffle-gvqxggjxvjh9xr7/workspaces/codespaces-jupyter/notebooks/exercise_files/08_04_Challenge.ipynb#W6sdnNjb2RlLXJlbW90ZQ%3D%3D?line=1'>2</a>\u001b[0m     sender\u001b[39m.\u001b[39;49msend(\u001b[39mf\u001b[39;49m\u001b[39m'\u001b[39;49m\u001b[39mThis is message \u001b[39;49m\u001b[39m{\u001b[39;49;00mi\u001b[39m}\u001b[39;49;00m\u001b[39m'\u001b[39;49m)\n",
      "\u001b[1;32m/workspaces/codespaces-jupyter/notebooks/exercise_files/08_04_Challenge.ipynb Celda 5\u001b[0m line \u001b[0;36m1\n\u001b[1;32m     <a href='vscode-notebook-cell://codespaces%2Bcrispy-waffle-gvqxggjxvjh9xr7/workspaces/codespaces-jupyter/notebooks/exercise_files/08_04_Challenge.ipynb#W6sdnNjb2RlLXJlbW90ZQ%3D%3D?line=10'>11</a>\u001b[0m \u001b[39mdef\u001b[39;00m \u001b[39msend\u001b[39m(\u001b[39mself\u001b[39m, message):\n\u001b[1;32m     <a href='vscode-notebook-cell://codespaces%2Bcrispy-waffle-gvqxggjxvjh9xr7/workspaces/codespaces-jupyter/notebooks/exercise_files/08_04_Challenge.ipynb#W6sdnNjb2RlLXJlbW90ZQ%3D%3D?line=11'>12</a>\u001b[0m     \u001b[39mfor\u001b[39;00m listener \u001b[39min\u001b[39;00m \u001b[39mself\u001b[39m\u001b[39m.\u001b[39mlisteners:\n\u001b[0;32m---> <a href='vscode-notebook-cell://codespaces%2Bcrispy-waffle-gvqxggjxvjh9xr7/workspaces/codespaces-jupyter/notebooks/exercise_files/08_04_Challenge.ipynb#W6sdnNjb2RlLXJlbW90ZQ%3D%3D?line=12'>13</a>\u001b[0m         listener\u001b[39m.\u001b[39;49mreceive(message)\n",
      "\u001b[1;32m/workspaces/codespaces-jupyter/notebooks/exercise_files/08_04_Challenge.ipynb Celda 5\u001b[0m line \u001b[0;36m3\n\u001b[1;32m     <a href='vscode-notebook-cell://codespaces%2Bcrispy-waffle-gvqxggjxvjh9xr7/workspaces/codespaces-jupyter/notebooks/exercise_files/08_04_Challenge.ipynb#W6sdnNjb2RlLXJlbW90ZQ%3D%3D?line=28'>29</a>\u001b[0m \u001b[39mdef\u001b[39;00m \u001b[39mreceive\u001b[39m(\u001b[39mself\u001b[39m, message):\n\u001b[1;32m     <a href='vscode-notebook-cell://codespaces%2Bcrispy-waffle-gvqxggjxvjh9xr7/workspaces/codespaces-jupyter/notebooks/exercise_files/08_04_Challenge.ipynb#W6sdnNjb2RlLXJlbW90ZQ%3D%3D?line=29'>30</a>\u001b[0m     \u001b[39mif\u001b[39;00m \u001b[39mlen\u001b[39m(\u001b[39mself\u001b[39m\u001b[39m.\u001b[39mmessages) \u001b[39m>\u001b[39m\u001b[39m=\u001b[39m \u001b[39mself\u001b[39m\u001b[39m.\u001b[39mmax_messages:\n\u001b[1;32m     <a href='vscode-notebook-cell://codespaces%2Bcrispy-waffle-gvqxggjxvjh9xr7/workspaces/codespaces-jupyter/notebooks/exercise_files/08_04_Challenge.ipynb#W6sdnNjb2RlLXJlbW90ZQ%3D%3D?line=30'>31</a>\u001b[0m         \u001b[39m#2. Raise a TooManyMessagesException exception here\u001b[39;00m\n\u001b[0;32m---> <a href='vscode-notebook-cell://codespaces%2Bcrispy-waffle-gvqxggjxvjh9xr7/workspaces/codespaces-jupyter/notebooks/exercise_files/08_04_Challenge.ipynb#W6sdnNjb2RlLXJlbW90ZQ%3D%3D?line=31'>32</a>\u001b[0m         \u001b[39mraise\u001b[39;00m TooManyMessagesException(message)\n\u001b[1;32m     <a href='vscode-notebook-cell://codespaces%2Bcrispy-waffle-gvqxggjxvjh9xr7/workspaces/codespaces-jupyter/notebooks/exercise_files/08_04_Challenge.ipynb#W6sdnNjb2RlLXJlbW90ZQ%3D%3D?line=32'>33</a>\u001b[0m     \u001b[39mself\u001b[39m\u001b[39m.\u001b[39mmessages\u001b[39m.\u001b[39mappend({\u001b[39m'\u001b[39m\u001b[39mmessage\u001b[39m\u001b[39m'\u001b[39m: message, \u001b[39m'\u001b[39m\u001b[39mtime\u001b[39m\u001b[39m'\u001b[39m: getCurrentTime()})\n",
      "\u001b[0;31mTooManyMessagesException\u001b[0m: Your message This is message 10 have just exceded the 10-messages limit"
     ]
    }
   ],
   "source": [
    "for i in range(0, 20):\n",
    "    sender.send(f'This is message {i}')"
   ]
  },
  {
   "cell_type": "code",
   "execution_count": 18,
   "id": "59c39e74",
   "metadata": {},
   "outputs": [
    {
     "name": "stdout",
     "output_type": "stream",
     "text": [
      "Message: \"This is message 0\" Time: 10-02-2023 00:00:59\n",
      "Message: \"This is message 1\" Time: 10-02-2023 00:00:59\n",
      "Message: \"This is message 2\" Time: 10-02-2023 00:00:59\n",
      "Message: \"This is message 3\" Time: 10-02-2023 00:00:59\n",
      "Message: \"This is message 4\" Time: 10-02-2023 00:00:59\n",
      "Message: \"This is message 5\" Time: 10-02-2023 00:00:59\n",
      "Message: \"This is message 6\" Time: 10-02-2023 00:00:59\n",
      "Message: \"This is message 7\" Time: 10-02-2023 00:00:59\n",
      "Message: \"This is message 8\" Time: 10-02-2023 00:00:59\n",
      "Message: \"This is message 9\" Time: 10-02-2023 00:00:59\n"
     ]
    }
   ],
   "source": [
    "listener.printMessages()"
   ]
  }
 ],
 "metadata": {
  "kernelspec": {
   "display_name": "Python 3.10.4 64-bit",
   "language": "python",
   "name": "python3"
  },
  "language_info": {
   "codemirror_mode": {
    "name": "ipython",
    "version": 3
   },
   "file_extension": ".py",
   "mimetype": "text/x-python",
   "name": "python",
   "nbconvert_exporter": "python",
   "pygments_lexer": "ipython3",
   "version": "3.10.8"
  },
  "vscode": {
   "interpreter": {
    "hash": "949777d72b0d2535278d3dc13498b2535136f6dfe0678499012e853ee9abcab1"
   }
  }
 },
 "nbformat": 4,
 "nbformat_minor": 5
}
